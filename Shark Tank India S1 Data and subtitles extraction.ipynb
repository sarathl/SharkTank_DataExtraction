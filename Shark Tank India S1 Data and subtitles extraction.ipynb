{
 "cells": [
  {
   "cell_type": "code",
   "execution_count": 1,
   "id": "4adbb70f",
   "metadata": {},
   "outputs": [],
   "source": [
    "from youtube_transcript_api import YouTubeTranscriptApi\n",
    "import pandas as pd\n",
    "import numpy as np\n",
    "import requests\n",
    "from random_user_agent.user_agent import UserAgent\n",
    "import re\n",
    "import json\n",
    "import pickle\n",
    "from bs4 import BeautifulSoup # library to parse HTML documents\n",
    "# !pip install random-user-agent"
   ]
  },
  {
   "cell_type": "code",
   "execution_count": 2,
   "id": "700777d6",
   "metadata": {},
   "outputs": [],
   "source": [
    "playlist_url = 'https://www.youtube.com/playlist?list=PLzufeTFnhupwqGc-IVUPwviLVP0gsx8_w'"
   ]
  },
  {
   "cell_type": "code",
   "execution_count": 3,
   "id": "1b1fc647",
   "metadata": {},
   "outputs": [],
   "source": [
    "res = requests.get(playlist_url)"
   ]
  },
  {
   "cell_type": "code",
   "execution_count": 4,
   "id": "3b2f1f43",
   "metadata": {},
   "outputs": [
    {
     "data": {
      "text/plain": [
       "<Response [200]>"
      ]
     },
     "execution_count": 4,
     "metadata": {},
     "output_type": "execute_result"
    }
   ],
   "source": [
    "res"
   ]
  },
  {
   "cell_type": "code",
   "execution_count": 5,
   "id": "cbd8ec71",
   "metadata": {},
   "outputs": [],
   "source": [
    "# res.text"
   ]
  },
  {
   "cell_type": "code",
   "execution_count": 6,
   "id": "6d8dee89",
   "metadata": {},
   "outputs": [],
   "source": [
    "playlist_text = res.text"
   ]
  },
  {
   "cell_type": "code",
   "execution_count": 7,
   "id": "2851b468",
   "metadata": {
    "scrolled": true
   },
   "outputs": [],
   "source": [
    "video_ids = []\n",
    "\n",
    "for el in re.findall(r'\"videoId\":\".*?,', playlist_text):\n",
    "    video_id = el.replace('\"videoId\":\"', '')[:-2]\n",
    "    if video_id not in video_ids:\n",
    "        video_ids.append(el.replace('\"videoId\":\"', '')[:-2])"
   ]
  },
  {
   "cell_type": "code",
   "execution_count": 8,
   "id": "37a6603c",
   "metadata": {},
   "outputs": [],
   "source": [
    "# The first video is not an episode, so removing it\n",
    "\n",
    "try:\n",
    "    video_ids.remove('MOUxxMYYtBQ')\n",
    "except:\n",
    "    pass"
   ]
  },
  {
   "cell_type": "code",
   "execution_count": 9,
   "id": "2a46bbe1",
   "metadata": {},
   "outputs": [
    {
     "data": {
      "text/plain": [
       "35"
      ]
     },
     "execution_count": 9,
     "metadata": {},
     "output_type": "execute_result"
    }
   ],
   "source": [
    "len(video_ids)"
   ]
  },
  {
   "cell_type": "code",
   "execution_count": 10,
   "id": "fad79aa0",
   "metadata": {
    "scrolled": true
   },
   "outputs": [],
   "source": [
    "# re.findall(r'\"title\":\\{\"runs\":\\[\\{\"text\":\".*?\"\\}\\]', playlist_text)[0].replace('\"title\":', '') + \"}\"\n",
    "\n",
    "titles = []\n",
    "\n",
    "for el in re.findall(r'\"title\":\\{\"runs\":\\[\\{\"text\":\".*?\"\\}\\]', playlist_text):\n",
    "    try:\n",
    "        titles.append(json.loads(el.replace('\"title\":', '') + \"}\")['runs'][0]['text'])\n",
    "    except:\n",
    "        pass"
   ]
  },
  {
   "cell_type": "code",
   "execution_count": 11,
   "id": "4f680bf9",
   "metadata": {
    "scrolled": true
   },
   "outputs": [
    {
     "data": {
      "text/plain": [
       "['Abish ने लिया Sharks का एक Exclusive Interview | Shark Tank India| Getting Candid With The Sharks',\n",
       " 'Knowledge Innovation | Shark Tank India - Ep 31 | Full Episode | 31 January 2022',\n",
       " 'Annie: A Solution For Specially Abled | Shark Tank India - Ep 13 | Full Episode | 5 January 2022',\n",
       " 'Women Taking Charge | Shark Tank India - Ep 10 | Full Episode | 31 December 2021',\n",
       " 'Era Of Entrepreneurship | Shark Tank India - Ep 24 | Full Episode | 20 January 2022',\n",
       " 'Matter Of Safety | Shark Tank India - Ep 9 | Full Episode | 30 December 2021',\n",
       " 'Innovative Ideas | Shark Tank India - Ep 7 | Full Episode | 28 December 2021',\n",
       " 'Beyond Food Taste | Shark Tank India - Ep 8 | Full Episode | 29 December 2021',\n",
       " \"It's Time To Change | Shark Tank India - Ep 15 | Full Episode | 7 January 2022\",\n",
       " 'The Final Destination | Shark Tank India - Ep 35 | Full Episode | 4 February 2022',\n",
       " 'Shark Tank - Welcome To Shark Tank India - Ep - 1 - Full Episode - 20th December, 2021',\n",
       " 'A Desi Twist | Shark Tank India - Ep 34 | Full Episode | 3 February 2022',\n",
       " 'Life-Changing Ideas | Shark Tank India - Ep 33 | Full Episode | 2 February 2022',\n",
       " 'The Road To Success | Shark Tank India - Ep 32 | Full Episode | 1 February 2022',\n",
       " \"Sharks' Expertise | Shark Tank India - Ep 30 | Full Episode | 28 January 2022\",\n",
       " 'Businesses Of Tomorrow | Shark Tank India - Ep 29 | Full Episode | 27 January 2022',\n",
       " 'The Organic Dairy | Shark Tank India - Ep 28 | Full Episode | 26 January 2022',\n",
       " 'Investing In The Future | Shark Tank India - Ep 27 | Full Episode | 25 January 2022',\n",
       " 'Revolutionary Ideas | Shark Tank India - Ep 26 | Full Episode | 24 January 2022',\n",
       " 'An Ocean Of Opportunities | Shark Tank India - Ep 25 | Full Episode | 21 January 2022',\n",
       " 'Investing In Innovation | Shark Tank India - Ep 23 | Full Episode | 19 January 2022',\n",
       " 'Turning Ideas Into Businesses | Shark Tank India - Ep 22 | Full Episode | 18 January 2022',\n",
       " 'Game-Changing Ideas | Shark Tank India - Ep 21 | Full Episode | 17 January 2022',\n",
       " 'Problems Of A Saturated Market | Shark Tank India - Ep 20 | Full Episode | 14 January 2022',\n",
       " 'Bagging The Deal | Shark Tank India - Ep 19 | Full Episode | 13 January 2022',\n",
       " 'Passion Has No Age | Shark Tank India - Ep 18 | Full Episode | 12 January 2022',\n",
       " 'Premium Sneakers | Shark Tank India - Ep 17 | Full Episode | 11 January 2022',\n",
       " 'Bamboo Toothbrush | Shark Tank India - Ep 16 | Full Episode | 10 January 2022',\n",
       " 'Medical Revolution | Shark Tank India - Ep 14 | Full Episode | 6 January 2022',\n",
       " 'Attitude Matters | Shark Tank India - Ep 12 | Full Episode | 4 January 2022',\n",
       " 'Ice Cream With Fiber | Shark Tank India - Ep 11 | Full Episode | 3 January 2022',\n",
       " 'Fun Product For The Adults | Shark Tank India - Ep 6 | Full Episode | 27 December 2021',\n",
       " 'Turning Ideas Into Reality | Shark Tank India - Ep 5 | Full Episode | 24 December 2021',\n",
       " \"Entrepreneurship's Wave | Shark Tank India - Ep 4 | Full Episode | 23 December 2021\",\n",
       " 'Innovation Is The Investment | Shark Tank India - Ep 3 | Full Episode | 22 December 2021',\n",
       " 'Shark Tank - Snacktivity - EP- 2 - Full Episode - 21st December, 2021',\n",
       " 'Description',\n",
       " 'Keyboard shortcuts',\n",
       " 'Playback',\n",
       " 'General',\n",
       " 'Subtitles and closed captions',\n",
       " 'Spherical videos']"
      ]
     },
     "execution_count": 11,
     "metadata": {},
     "output_type": "execute_result"
    }
   ],
   "source": [
    "titles"
   ]
  },
  {
   "cell_type": "code",
   "execution_count": 12,
   "id": "64211b10",
   "metadata": {
    "scrolled": true
   },
   "outputs": [],
   "source": [
    "# Removing the first title which is not an episode and last few elements\n",
    "if len(titles) > 35:\n",
    "    titles = titles[1:36-len(titles)]"
   ]
  },
  {
   "cell_type": "code",
   "execution_count": 13,
   "id": "84557327",
   "metadata": {},
   "outputs": [
    {
     "data": {
      "text/plain": [
       "['Knowledge Innovation | Shark Tank India - Ep 31 | Full Episode | 31 January 2022',\n",
       " 'Annie: A Solution For Specially Abled | Shark Tank India - Ep 13 | Full Episode | 5 January 2022',\n",
       " 'Women Taking Charge | Shark Tank India - Ep 10 | Full Episode | 31 December 2021',\n",
       " 'Era Of Entrepreneurship | Shark Tank India - Ep 24 | Full Episode | 20 January 2022',\n",
       " 'Matter Of Safety | Shark Tank India - Ep 9 | Full Episode | 30 December 2021',\n",
       " 'Innovative Ideas | Shark Tank India - Ep 7 | Full Episode | 28 December 2021',\n",
       " 'Beyond Food Taste | Shark Tank India - Ep 8 | Full Episode | 29 December 2021',\n",
       " \"It's Time To Change | Shark Tank India - Ep 15 | Full Episode | 7 January 2022\",\n",
       " 'The Final Destination | Shark Tank India - Ep 35 | Full Episode | 4 February 2022',\n",
       " 'Shark Tank - Welcome To Shark Tank India - Ep - 1 - Full Episode - 20th December, 2021',\n",
       " 'A Desi Twist | Shark Tank India - Ep 34 | Full Episode | 3 February 2022',\n",
       " 'Life-Changing Ideas | Shark Tank India - Ep 33 | Full Episode | 2 February 2022',\n",
       " 'The Road To Success | Shark Tank India - Ep 32 | Full Episode | 1 February 2022',\n",
       " \"Sharks' Expertise | Shark Tank India - Ep 30 | Full Episode | 28 January 2022\",\n",
       " 'Businesses Of Tomorrow | Shark Tank India - Ep 29 | Full Episode | 27 January 2022',\n",
       " 'The Organic Dairy | Shark Tank India - Ep 28 | Full Episode | 26 January 2022',\n",
       " 'Investing In The Future | Shark Tank India - Ep 27 | Full Episode | 25 January 2022',\n",
       " 'Revolutionary Ideas | Shark Tank India - Ep 26 | Full Episode | 24 January 2022',\n",
       " 'An Ocean Of Opportunities | Shark Tank India - Ep 25 | Full Episode | 21 January 2022',\n",
       " 'Investing In Innovation | Shark Tank India - Ep 23 | Full Episode | 19 January 2022',\n",
       " 'Turning Ideas Into Businesses | Shark Tank India - Ep 22 | Full Episode | 18 January 2022',\n",
       " 'Game-Changing Ideas | Shark Tank India - Ep 21 | Full Episode | 17 January 2022',\n",
       " 'Problems Of A Saturated Market | Shark Tank India - Ep 20 | Full Episode | 14 January 2022',\n",
       " 'Bagging The Deal | Shark Tank India - Ep 19 | Full Episode | 13 January 2022',\n",
       " 'Passion Has No Age | Shark Tank India - Ep 18 | Full Episode | 12 January 2022',\n",
       " 'Premium Sneakers | Shark Tank India - Ep 17 | Full Episode | 11 January 2022',\n",
       " 'Bamboo Toothbrush | Shark Tank India - Ep 16 | Full Episode | 10 January 2022',\n",
       " 'Medical Revolution | Shark Tank India - Ep 14 | Full Episode | 6 January 2022',\n",
       " 'Attitude Matters | Shark Tank India - Ep 12 | Full Episode | 4 January 2022',\n",
       " 'Ice Cream With Fiber | Shark Tank India - Ep 11 | Full Episode | 3 January 2022',\n",
       " 'Fun Product For The Adults | Shark Tank India - Ep 6 | Full Episode | 27 December 2021',\n",
       " 'Turning Ideas Into Reality | Shark Tank India - Ep 5 | Full Episode | 24 December 2021',\n",
       " \"Entrepreneurship's Wave | Shark Tank India - Ep 4 | Full Episode | 23 December 2021\",\n",
       " 'Innovation Is The Investment | Shark Tank India - Ep 3 | Full Episode | 22 December 2021',\n",
       " 'Shark Tank - Snacktivity - EP- 2 - Full Episode - 21st December, 2021']"
      ]
     },
     "execution_count": 13,
     "metadata": {},
     "output_type": "execute_result"
    }
   ],
   "source": [
    "titles"
   ]
  },
  {
   "cell_type": "code",
   "execution_count": 14,
   "id": "cd172657",
   "metadata": {},
   "outputs": [
    {
     "data": {
      "text/plain": [
       "35"
      ]
     },
     "execution_count": 14,
     "metadata": {},
     "output_type": "execute_result"
    }
   ],
   "source": [
    "len(titles)"
   ]
  },
  {
   "cell_type": "code",
   "execution_count": 15,
   "id": "c9f1d22d",
   "metadata": {
    "scrolled": true
   },
   "outputs": [],
   "source": [
    "ep_number_regex = r'[Ee][Pp](?:- | - | )(\\d+)'"
   ]
  },
  {
   "cell_type": "code",
   "execution_count": 16,
   "id": "e7d75fe6",
   "metadata": {},
   "outputs": [],
   "source": [
    "ep_numbers = [re.search(ep_number_regex, el).group(1) for el in titles]"
   ]
  },
  {
   "cell_type": "code",
   "execution_count": null,
   "id": "c123cc82",
   "metadata": {},
   "outputs": [],
   "source": []
  },
  {
   "cell_type": "code",
   "execution_count": 17,
   "id": "0f433956",
   "metadata": {},
   "outputs": [],
   "source": [
    "df = pd.DataFrame([ep_numbers, video_ids, titles]).T\n",
    "\n",
    "df.columns = ['Episode Number', 'VideoId', 'Title']"
   ]
  },
  {
   "cell_type": "code",
   "execution_count": 18,
   "id": "e0524e4c",
   "metadata": {},
   "outputs": [
    {
     "data": {
      "text/html": [
       "<div>\n",
       "<style scoped>\n",
       "    .dataframe tbody tr th:only-of-type {\n",
       "        vertical-align: middle;\n",
       "    }\n",
       "\n",
       "    .dataframe tbody tr th {\n",
       "        vertical-align: top;\n",
       "    }\n",
       "\n",
       "    .dataframe thead th {\n",
       "        text-align: right;\n",
       "    }\n",
       "</style>\n",
       "<table border=\"1\" class=\"dataframe\">\n",
       "  <thead>\n",
       "    <tr style=\"text-align: right;\">\n",
       "      <th></th>\n",
       "      <th>Episode Number</th>\n",
       "      <th>VideoId</th>\n",
       "      <th>Title</th>\n",
       "    </tr>\n",
       "  </thead>\n",
       "  <tbody>\n",
       "    <tr>\n",
       "      <th>32</th>\n",
       "      <td>4</td>\n",
       "      <td>8tR8LAsjJHY</td>\n",
       "      <td>Entrepreneurship's Wave | Shark Tank India - E...</td>\n",
       "    </tr>\n",
       "    <tr>\n",
       "      <th>33</th>\n",
       "      <td>3</td>\n",
       "      <td>WXuoYzyCAfw</td>\n",
       "      <td>Innovation Is The Investment | Shark Tank Indi...</td>\n",
       "    </tr>\n",
       "    <tr>\n",
       "      <th>34</th>\n",
       "      <td>2</td>\n",
       "      <td>qX2P0DNFiiM</td>\n",
       "      <td>Shark Tank - Snacktivity - EP- 2 - Full Episod...</td>\n",
       "    </tr>\n",
       "  </tbody>\n",
       "</table>\n",
       "</div>"
      ],
      "text/plain": [
       "   Episode Number      VideoId  \\\n",
       "32              4  8tR8LAsjJHY   \n",
       "33              3  WXuoYzyCAfw   \n",
       "34              2  qX2P0DNFiiM   \n",
       "\n",
       "                                                Title  \n",
       "32  Entrepreneurship's Wave | Shark Tank India - E...  \n",
       "33  Innovation Is The Investment | Shark Tank Indi...  \n",
       "34  Shark Tank - Snacktivity - EP- 2 - Full Episod...  "
      ]
     },
     "execution_count": 18,
     "metadata": {},
     "output_type": "execute_result"
    }
   ],
   "source": [
    "df.tail(3)"
   ]
  },
  {
   "cell_type": "code",
   "execution_count": 19,
   "id": "232ce7bf",
   "metadata": {},
   "outputs": [
    {
     "data": {
      "text/html": [
       "<div>\n",
       "<style scoped>\n",
       "    .dataframe tbody tr th:only-of-type {\n",
       "        vertical-align: middle;\n",
       "    }\n",
       "\n",
       "    .dataframe tbody tr th {\n",
       "        vertical-align: top;\n",
       "    }\n",
       "\n",
       "    .dataframe thead th {\n",
       "        text-align: right;\n",
       "    }\n",
       "</style>\n",
       "<table border=\"1\" class=\"dataframe\">\n",
       "  <thead>\n",
       "    <tr style=\"text-align: right;\">\n",
       "      <th></th>\n",
       "      <th>Episode Number</th>\n",
       "      <th>VideoId</th>\n",
       "      <th>Title</th>\n",
       "    </tr>\n",
       "  </thead>\n",
       "  <tbody>\n",
       "    <tr>\n",
       "      <th>9</th>\n",
       "      <td>1</td>\n",
       "      <td>OG-MwHvM4Ac</td>\n",
       "      <td>Shark Tank - Welcome To Shark Tank India - Ep ...</td>\n",
       "    </tr>\n",
       "  </tbody>\n",
       "</table>\n",
       "</div>"
      ],
      "text/plain": [
       "  Episode Number      VideoId  \\\n",
       "9              1  OG-MwHvM4Ac   \n",
       "\n",
       "                                               Title  \n",
       "9  Shark Tank - Welcome To Shark Tank India - Ep ...  "
      ]
     },
     "execution_count": 19,
     "metadata": {},
     "output_type": "execute_result"
    }
   ],
   "source": [
    "df[df['Title'].str.contains('Welcome')]\n",
    "# ['Title']"
   ]
  },
  {
   "cell_type": "code",
   "execution_count": 20,
   "id": "4ae82f30",
   "metadata": {
    "scrolled": true
   },
   "outputs": [],
   "source": [
    "def get_subs(row):\n",
    "    try:\n",
    "        subs = YouTubeTranscriptApi.get_transcript(row['VideoId'])\n",
    "        row['Subs'] = subs\n",
    "    except Exception as e:\n",
    "        print(f\"Error :: {e} with video {row['VideoId']} and title {row['Title']}\")"
   ]
  },
  {
   "cell_type": "code",
   "execution_count": 21,
   "id": "bd65ffb7",
   "metadata": {
    "scrolled": true
   },
   "outputs": [
    {
     "name": "stdout",
     "output_type": "stream",
     "text": [
      "Error :: \n",
      "Could not retrieve a transcript for the video https://www.youtube.com/watch?v=DMOzm6rav68! This is most likely caused by:\n",
      "\n",
      "Subtitles are disabled for this video\n",
      "\n",
      "If you are sure that the described cause is not responsible for this error and that a transcript should be retrievable, please create an issue at https://github.com/jdepoix/youtube-transcript-api/issues. Please add which version of youtube_transcript_api you are using and provide the information needed to replicate the error. Also make sure that there are no open issues which already describe your problem! with video DMOzm6rav68 and title Knowledge Innovation | Shark Tank India - Ep 31 | Full Episode | 31 January 2022\n",
      "Error :: \n",
      "Could not retrieve a transcript for the video https://www.youtube.com/watch?v=F5MKAtwVWZ4! This is most likely caused by:\n",
      "\n",
      "Subtitles are disabled for this video\n",
      "\n",
      "If you are sure that the described cause is not responsible for this error and that a transcript should be retrievable, please create an issue at https://github.com/jdepoix/youtube-transcript-api/issues. Please add which version of youtube_transcript_api you are using and provide the information needed to replicate the error. Also make sure that there are no open issues which already describe your problem! with video F5MKAtwVWZ4 and title Annie: A Solution For Specially Abled | Shark Tank India - Ep 13 | Full Episode | 5 January 2022\n",
      "Error :: \n",
      "Could not retrieve a transcript for the video https://www.youtube.com/watch?v=-__OWU_QL1o! This is most likely caused by:\n",
      "\n",
      "Subtitles are disabled for this video\n",
      "\n",
      "If you are sure that the described cause is not responsible for this error and that a transcript should be retrievable, please create an issue at https://github.com/jdepoix/youtube-transcript-api/issues. Please add which version of youtube_transcript_api you are using and provide the information needed to replicate the error. Also make sure that there are no open issues which already describe your problem! with video -__OWU_QL1o and title Women Taking Charge | Shark Tank India - Ep 10 | Full Episode | 31 December 2021\n",
      "Error :: \n",
      "Could not retrieve a transcript for the video https://www.youtube.com/watch?v=Cd1QXIJ38FI! This is most likely caused by:\n",
      "\n",
      "Subtitles are disabled for this video\n",
      "\n",
      "If you are sure that the described cause is not responsible for this error and that a transcript should be retrievable, please create an issue at https://github.com/jdepoix/youtube-transcript-api/issues. Please add which version of youtube_transcript_api you are using and provide the information needed to replicate the error. Also make sure that there are no open issues which already describe your problem! with video Cd1QXIJ38FI and title Era Of Entrepreneurship | Shark Tank India - Ep 24 | Full Episode | 20 January 2022\n",
      "Error :: \n",
      "Could not retrieve a transcript for the video https://www.youtube.com/watch?v=DiboGMCj9Yw! This is most likely caused by:\n",
      "\n",
      "Subtitles are disabled for this video\n",
      "\n",
      "If you are sure that the described cause is not responsible for this error and that a transcript should be retrievable, please create an issue at https://github.com/jdepoix/youtube-transcript-api/issues. Please add which version of youtube_transcript_api you are using and provide the information needed to replicate the error. Also make sure that there are no open issues which already describe your problem! with video DiboGMCj9Yw and title Matter Of Safety | Shark Tank India - Ep 9 | Full Episode | 30 December 2021\n",
      "Error :: \n",
      "Could not retrieve a transcript for the video https://www.youtube.com/watch?v=mcho7eua_3o! This is most likely caused by:\n",
      "\n",
      "Subtitles are disabled for this video\n",
      "\n",
      "If you are sure that the described cause is not responsible for this error and that a transcript should be retrievable, please create an issue at https://github.com/jdepoix/youtube-transcript-api/issues. Please add which version of youtube_transcript_api you are using and provide the information needed to replicate the error. Also make sure that there are no open issues which already describe your problem! with video mcho7eua_3o and title Innovative Ideas | Shark Tank India - Ep 7 | Full Episode | 28 December 2021\n",
      "Error :: \n",
      "Could not retrieve a transcript for the video https://www.youtube.com/watch?v=DjqwRAbpeMU! This is most likely caused by:\n",
      "\n",
      "Subtitles are disabled for this video\n",
      "\n",
      "If you are sure that the described cause is not responsible for this error and that a transcript should be retrievable, please create an issue at https://github.com/jdepoix/youtube-transcript-api/issues. Please add which version of youtube_transcript_api you are using and provide the information needed to replicate the error. Also make sure that there are no open issues which already describe your problem! with video DjqwRAbpeMU and title Beyond Food Taste | Shark Tank India - Ep 8 | Full Episode | 29 December 2021\n",
      "Error :: \n",
      "Could not retrieve a transcript for the video https://www.youtube.com/watch?v=DFCZ60YbYxE! This is most likely caused by:\n",
      "\n",
      "Subtitles are disabled for this video\n",
      "\n",
      "If you are sure that the described cause is not responsible for this error and that a transcript should be retrievable, please create an issue at https://github.com/jdepoix/youtube-transcript-api/issues. Please add which version of youtube_transcript_api you are using and provide the information needed to replicate the error. Also make sure that there are no open issues which already describe your problem! with video DFCZ60YbYxE and title It's Time To Change | Shark Tank India - Ep 15 | Full Episode | 7 January 2022\n",
      "Error :: \n",
      "Could not retrieve a transcript for the video https://www.youtube.com/watch?v=OG-MwHvM4Ac! This is most likely caused by:\n",
      "\n",
      "Subtitles are disabled for this video\n",
      "\n",
      "If you are sure that the described cause is not responsible for this error and that a transcript should be retrievable, please create an issue at https://github.com/jdepoix/youtube-transcript-api/issues. Please add which version of youtube_transcript_api you are using and provide the information needed to replicate the error. Also make sure that there are no open issues which already describe your problem! with video OG-MwHvM4Ac and title Shark Tank - Welcome To Shark Tank India - Ep - 1 - Full Episode - 20th December, 2021\n",
      "Error :: \n",
      "Could not retrieve a transcript for the video https://www.youtube.com/watch?v=64PHoRmrO2c! This is most likely caused by:\n",
      "\n",
      "Subtitles are disabled for this video\n",
      "\n",
      "If you are sure that the described cause is not responsible for this error and that a transcript should be retrievable, please create an issue at https://github.com/jdepoix/youtube-transcript-api/issues. Please add which version of youtube_transcript_api you are using and provide the information needed to replicate the error. Also make sure that there are no open issues which already describe your problem! with video 64PHoRmrO2c and title Problems Of A Saturated Market | Shark Tank India - Ep 20 | Full Episode | 14 January 2022\n",
      "Error :: \n",
      "Could not retrieve a transcript for the video https://www.youtube.com/watch?v=8tR8LAsjJHY! This is most likely caused by:\n",
      "\n",
      "Subtitles are disabled for this video\n",
      "\n",
      "If you are sure that the described cause is not responsible for this error and that a transcript should be retrievable, please create an issue at https://github.com/jdepoix/youtube-transcript-api/issues. Please add which version of youtube_transcript_api you are using and provide the information needed to replicate the error. Also make sure that there are no open issues which already describe your problem! with video 8tR8LAsjJHY and title Entrepreneurship's Wave | Shark Tank India - Ep 4 | Full Episode | 23 December 2021\n"
     ]
    }
   ],
   "source": [
    "df['Subs'] = \"\"\n",
    "for idx, row in df.iterrows():\n",
    "    get_subs(row)"
   ]
  },
  {
   "cell_type": "code",
   "execution_count": 22,
   "id": "464a9838",
   "metadata": {},
   "outputs": [],
   "source": [
    "mask = df['Subs'] == \"\"\n",
    "\n",
    "df.loc[mask, 'Subs'] = np.empty((sum(mask), 0)).tolist()"
   ]
  },
  {
   "cell_type": "code",
   "execution_count": 23,
   "id": "4bae185b",
   "metadata": {},
   "outputs": [
    {
     "data": {
      "text/html": [
       "<div>\n",
       "<style scoped>\n",
       "    .dataframe tbody tr th:only-of-type {\n",
       "        vertical-align: middle;\n",
       "    }\n",
       "\n",
       "    .dataframe tbody tr th {\n",
       "        vertical-align: top;\n",
       "    }\n",
       "\n",
       "    .dataframe thead th {\n",
       "        text-align: right;\n",
       "    }\n",
       "</style>\n",
       "<table border=\"1\" class=\"dataframe\">\n",
       "  <thead>\n",
       "    <tr style=\"text-align: right;\">\n",
       "      <th></th>\n",
       "      <th>Episode Number</th>\n",
       "      <th>VideoId</th>\n",
       "      <th>Title</th>\n",
       "      <th>Subs</th>\n",
       "    </tr>\n",
       "  </thead>\n",
       "  <tbody>\n",
       "    <tr>\n",
       "      <th>31</th>\n",
       "      <td>5</td>\n",
       "      <td>7Xyr1vT7xnc</td>\n",
       "      <td>Turning Ideas Into Reality | Shark Tank India ...</td>\n",
       "      <td>[{'text': 'My name is Jayesh Tope.', 'start': ...</td>\n",
       "    </tr>\n",
       "    <tr>\n",
       "      <th>32</th>\n",
       "      <td>4</td>\n",
       "      <td>8tR8LAsjJHY</td>\n",
       "      <td>Entrepreneurship's Wave | Shark Tank India - E...</td>\n",
       "      <td>[]</td>\n",
       "    </tr>\n",
       "    <tr>\n",
       "      <th>33</th>\n",
       "      <td>3</td>\n",
       "      <td>WXuoYzyCAfw</td>\n",
       "      <td>Innovation Is The Investment | Shark Tank Indi...</td>\n",
       "      <td>[{'text': ''In 40 countries of this world'', '...</td>\n",
       "    </tr>\n",
       "    <tr>\n",
       "      <th>34</th>\n",
       "      <td>2</td>\n",
       "      <td>qX2P0DNFiiM</td>\n",
       "      <td>Shark Tank - Snacktivity - EP- 2 - Full Episod...</td>\n",
       "      <td>[{'text': ''Humans.'', 'start': 11.148, 'durat...</td>\n",
       "    </tr>\n",
       "  </tbody>\n",
       "</table>\n",
       "</div>"
      ],
      "text/plain": [
       "   Episode Number      VideoId  \\\n",
       "31              5  7Xyr1vT7xnc   \n",
       "32              4  8tR8LAsjJHY   \n",
       "33              3  WXuoYzyCAfw   \n",
       "34              2  qX2P0DNFiiM   \n",
       "\n",
       "                                                Title  \\\n",
       "31  Turning Ideas Into Reality | Shark Tank India ...   \n",
       "32  Entrepreneurship's Wave | Shark Tank India - E...   \n",
       "33  Innovation Is The Investment | Shark Tank Indi...   \n",
       "34  Shark Tank - Snacktivity - EP- 2 - Full Episod...   \n",
       "\n",
       "                                                 Subs  \n",
       "31  [{'text': 'My name is Jayesh Tope.', 'start': ...  \n",
       "32                                                 []  \n",
       "33  [{'text': ''In 40 countries of this world'', '...  \n",
       "34  [{'text': ''Humans.'', 'start': 11.148, 'durat...  "
      ]
     },
     "execution_count": 23,
     "metadata": {},
     "output_type": "execute_result"
    }
   ],
   "source": [
    "df.tail(4)"
   ]
  },
  {
   "cell_type": "code",
   "execution_count": 24,
   "id": "9ee6c67e",
   "metadata": {},
   "outputs": [],
   "source": [
    "df.to_pickle('Extracted_df.pickle')"
   ]
  },
  {
   "cell_type": "markdown",
   "id": "0088458f",
   "metadata": {},
   "source": [
    "## Cleaning YT Subtitles"
   ]
  },
  {
   "cell_type": "code",
   "execution_count": 25,
   "id": "23ac1036",
   "metadata": {},
   "outputs": [],
   "source": [
    "def clean_subs(text_list):\n",
    "    return ' '.join([el['text'].replace('\\n', ' ').replace(\"'\", \"\") for el in text_list])"
   ]
  },
  {
   "cell_type": "code",
   "execution_count": 26,
   "id": "dc347036",
   "metadata": {},
   "outputs": [],
   "source": [
    "df['Subs_Clean'] = df['Subs'].apply(clean_subs)"
   ]
  },
  {
   "cell_type": "code",
   "execution_count": 27,
   "id": "ec8ea162",
   "metadata": {},
   "outputs": [
    {
     "data": {
      "text/html": [
       "<div>\n",
       "<style scoped>\n",
       "    .dataframe tbody tr th:only-of-type {\n",
       "        vertical-align: middle;\n",
       "    }\n",
       "\n",
       "    .dataframe tbody tr th {\n",
       "        vertical-align: top;\n",
       "    }\n",
       "\n",
       "    .dataframe thead th {\n",
       "        text-align: right;\n",
       "    }\n",
       "</style>\n",
       "<table border=\"1\" class=\"dataframe\">\n",
       "  <thead>\n",
       "    <tr style=\"text-align: right;\">\n",
       "      <th></th>\n",
       "      <th>Episode Number</th>\n",
       "      <th>VideoId</th>\n",
       "      <th>Title</th>\n",
       "      <th>Subs</th>\n",
       "      <th>Subs_Clean</th>\n",
       "    </tr>\n",
       "  </thead>\n",
       "  <tbody>\n",
       "    <tr>\n",
       "      <th>31</th>\n",
       "      <td>5</td>\n",
       "      <td>7Xyr1vT7xnc</td>\n",
       "      <td>Turning Ideas Into Reality | Shark Tank India ...</td>\n",
       "      <td>[{'text': 'My name is Jayesh Tope.', 'start': ...</td>\n",
       "      <td>My name is Jayesh Tope. My name is Pritesh Mah...</td>\n",
       "    </tr>\n",
       "    <tr>\n",
       "      <th>32</th>\n",
       "      <td>4</td>\n",
       "      <td>8tR8LAsjJHY</td>\n",
       "      <td>Entrepreneurship's Wave | Shark Tank India - E...</td>\n",
       "      <td>[]</td>\n",
       "      <td></td>\n",
       "    </tr>\n",
       "    <tr>\n",
       "      <th>33</th>\n",
       "      <td>3</td>\n",
       "      <td>WXuoYzyCAfw</td>\n",
       "      <td>Innovation Is The Investment | Shark Tank Indi...</td>\n",
       "      <td>[{'text': ''In 40 countries of this world'', '...</td>\n",
       "      <td>In 40 countries of this world the show which g...</td>\n",
       "    </tr>\n",
       "    <tr>\n",
       "      <th>34</th>\n",
       "      <td>2</td>\n",
       "      <td>qX2P0DNFiiM</td>\n",
       "      <td>Shark Tank - Snacktivity - EP- 2 - Full Episod...</td>\n",
       "      <td>[{'text': ''Humans.'', 'start': 11.148, 'durat...</td>\n",
       "      <td>Humans. Ideas. And dreams. This is a journey o...</td>\n",
       "    </tr>\n",
       "  </tbody>\n",
       "</table>\n",
       "</div>"
      ],
      "text/plain": [
       "   Episode Number      VideoId  \\\n",
       "31              5  7Xyr1vT7xnc   \n",
       "32              4  8tR8LAsjJHY   \n",
       "33              3  WXuoYzyCAfw   \n",
       "34              2  qX2P0DNFiiM   \n",
       "\n",
       "                                                Title  \\\n",
       "31  Turning Ideas Into Reality | Shark Tank India ...   \n",
       "32  Entrepreneurship's Wave | Shark Tank India - E...   \n",
       "33  Innovation Is The Investment | Shark Tank Indi...   \n",
       "34  Shark Tank - Snacktivity - EP- 2 - Full Episod...   \n",
       "\n",
       "                                                 Subs  \\\n",
       "31  [{'text': 'My name is Jayesh Tope.', 'start': ...   \n",
       "32                                                 []   \n",
       "33  [{'text': ''In 40 countries of this world'', '...   \n",
       "34  [{'text': ''Humans.'', 'start': 11.148, 'durat...   \n",
       "\n",
       "                                           Subs_Clean  \n",
       "31  My name is Jayesh Tope. My name is Pritesh Mah...  \n",
       "32                                                     \n",
       "33  In 40 countries of this world the show which g...  \n",
       "34  Humans. Ideas. And dreams. This is a journey o...  "
      ]
     },
     "execution_count": 27,
     "metadata": {},
     "output_type": "execute_result"
    }
   ],
   "source": [
    "df.tail(4)"
   ]
  },
  {
   "cell_type": "code",
   "execution_count": 28,
   "id": "7eee34b4",
   "metadata": {},
   "outputs": [],
   "source": [
    "# with open(\"Extracted_df.pickle\", \"rb\") as f:\n",
    "#     df2 = pickle.load(f)"
   ]
  },
  {
   "cell_type": "markdown",
   "id": "749d8eed",
   "metadata": {},
   "source": [
    "## Extracting data from wikipedia"
   ]
  },
  {
   "cell_type": "code",
   "execution_count": 29,
   "id": "adfe2da4",
   "metadata": {},
   "outputs": [],
   "source": [
    "res = requests.get('https://en.wikipedia.org/wiki/Shark_Tank_India_(season_1)')"
   ]
  },
  {
   "cell_type": "code",
   "execution_count": 30,
   "id": "34d4914d",
   "metadata": {},
   "outputs": [],
   "source": [
    "# res.text"
   ]
  },
  {
   "cell_type": "code",
   "execution_count": 31,
   "id": "195e447e",
   "metadata": {},
   "outputs": [],
   "source": [
    "soup = BeautifulSoup(res.text, 'html.parser')\n",
    "\n",
    "table=soup.find('table',{'class':\"wikitable mw-collapsible sortable\"})"
   ]
  },
  {
   "cell_type": "code",
   "execution_count": 32,
   "id": "af4723a6",
   "metadata": {},
   "outputs": [],
   "source": [
    "confirmed_symbol = '<td align=\"center\" bgcolor=\"#9DE093\"><img alt=\"Green checkmark\" data-file-height=\"185\" data-file-width=\"180\" decoding=\"async\" height=\"21\" src=\"//upload.wikimedia.org/wikipedia/commons/thumb/4/41/Symbol_confirmed.svg/20px-Symbol_confirmed.svg.png\" srcset=\"//upload.wikimedia.org/wikipedia/commons/thumb/4/41/Symbol_confirmed.svg/30px-Symbol_confirmed.svg.png 1.5x, //upload.wikimedia.org/wikipedia/commons/thumb/4/41/Symbol_confirmed.svg/40px-Symbol_confirmed.svg.png 2x\" width=\"20\"/>'\n",
    "# Replacing the check mark element shown on wikipedia representing if a judge has invested in the pitch \n",
    "# with 1.\n",
    "\n",
    "table_str = str(table).replace(confirmed_symbol, \"<td> 1\")"
   ]
  },
  {
   "cell_type": "code",
   "execution_count": 33,
   "id": "480566fc",
   "metadata": {},
   "outputs": [],
   "source": [
    "df_wiki = pd.DataFrame(pd.read_html(table_str)[0])\n",
    "\n",
    "df_wiki.columns = ['Ep. No.', 'Episode Number', 'Pitch No.', 'Brand', 'Idea', 'Original ask', \\\n",
    "                   'Deal', 'Ashneer', 'Namita', 'Anupam', 'Vineeta', 'Aman', 'Peyush', 'Ghazal']"
   ]
  },
  {
   "cell_type": "code",
   "execution_count": 34,
   "id": "7c9c2371",
   "metadata": {},
   "outputs": [],
   "source": [
    "try:\n",
    "    df_wiki.drop(['Ep. No.'], axis=1, inplace=True)\n",
    "except:\n",
    "    pass"
   ]
  },
  {
   "cell_type": "code",
   "execution_count": 35,
   "id": "595038a3",
   "metadata": {},
   "outputs": [
    {
     "data": {
      "text/html": [
       "<div>\n",
       "<style scoped>\n",
       "    .dataframe tbody tr th:only-of-type {\n",
       "        vertical-align: middle;\n",
       "    }\n",
       "\n",
       "    .dataframe tbody tr th {\n",
       "        vertical-align: top;\n",
       "    }\n",
       "\n",
       "    .dataframe thead th {\n",
       "        text-align: right;\n",
       "    }\n",
       "</style>\n",
       "<table border=\"1\" class=\"dataframe\">\n",
       "  <thead>\n",
       "    <tr style=\"text-align: right;\">\n",
       "      <th></th>\n",
       "      <th>Episode Number</th>\n",
       "      <th>Pitch No.</th>\n",
       "      <th>Brand</th>\n",
       "      <th>Idea</th>\n",
       "      <th>Original ask</th>\n",
       "      <th>Deal</th>\n",
       "      <th>Ashneer</th>\n",
       "      <th>Namita</th>\n",
       "      <th>Anupam</th>\n",
       "      <th>Vineeta</th>\n",
       "      <th>Aman</th>\n",
       "      <th>Peyush</th>\n",
       "      <th>Ghazal</th>\n",
       "    </tr>\n",
       "  </thead>\n",
       "  <tbody>\n",
       "    <tr>\n",
       "      <th>0</th>\n",
       "      <td>1</td>\n",
       "      <td>1</td>\n",
       "      <td>BluePine Industries</td>\n",
       "      <td>Frozen Momos</td>\n",
       "      <td>₹50 lakhs for 5% equity</td>\n",
       "      <td>₹75 lakhs for 16% equity</td>\n",
       "      <td>1</td>\n",
       "      <td>NaN</td>\n",
       "      <td>NaN</td>\n",
       "      <td>1</td>\n",
       "      <td>1</td>\n",
       "      <td>—</td>\n",
       "      <td>—</td>\n",
       "    </tr>\n",
       "    <tr>\n",
       "      <th>1</th>\n",
       "      <td>1</td>\n",
       "      <td>2</td>\n",
       "      <td>Booz scooters</td>\n",
       "      <td>Renting e-bike for mobility in private spaces</td>\n",
       "      <td>₹40 lakhs for 15% equity</td>\n",
       "      <td>₹40 lakhs for 50% equity</td>\n",
       "      <td>1</td>\n",
       "      <td>NaN</td>\n",
       "      <td>NaN</td>\n",
       "      <td>1</td>\n",
       "      <td>NaN</td>\n",
       "      <td>—</td>\n",
       "      <td>—</td>\n",
       "    </tr>\n",
       "    <tr>\n",
       "      <th>2</th>\n",
       "      <td>1</td>\n",
       "      <td>3</td>\n",
       "      <td>Heart up my Sleeves</td>\n",
       "      <td>Detachable Sleeves</td>\n",
       "      <td>₹25 lakhs for 10% equity</td>\n",
       "      <td>₹25 lakhs for 30% equity</td>\n",
       "      <td>NaN</td>\n",
       "      <td>NaN</td>\n",
       "      <td>1</td>\n",
       "      <td>1</td>\n",
       "      <td>NaN</td>\n",
       "      <td>—</td>\n",
       "      <td>—</td>\n",
       "    </tr>\n",
       "    <tr>\n",
       "      <th>3</th>\n",
       "      <td>2</td>\n",
       "      <td>4</td>\n",
       "      <td>Tagz Foods</td>\n",
       "      <td>Healthy Potato Chips</td>\n",
       "      <td>₹70 lakhs for 1% equity</td>\n",
       "      <td>₹70 lakhs for 2.75% equity</td>\n",
       "      <td>1</td>\n",
       "      <td>NaN</td>\n",
       "      <td>NaN</td>\n",
       "      <td>NaN</td>\n",
       "      <td>NaN</td>\n",
       "      <td>—</td>\n",
       "      <td>—</td>\n",
       "    </tr>\n",
       "  </tbody>\n",
       "</table>\n",
       "</div>"
      ],
      "text/plain": [
       "  Episode Number Pitch No.                Brand  \\\n",
       "0              1         1  BluePine Industries   \n",
       "1              1         2        Booz scooters   \n",
       "2              1         3  Heart up my Sleeves   \n",
       "3              2         4           Tagz Foods   \n",
       "\n",
       "                                            Idea              Original ask  \\\n",
       "0                                   Frozen Momos   ₹50 lakhs for 5% equity   \n",
       "1  Renting e-bike for mobility in private spaces  ₹40 lakhs for 15% equity   \n",
       "2                             Detachable Sleeves  ₹25 lakhs for 10% equity   \n",
       "3                           Healthy Potato Chips   ₹70 lakhs for 1% equity   \n",
       "\n",
       "                         Deal Ashneer Namita Anupam Vineeta Aman Peyush Ghazal  \n",
       "0    ₹75 lakhs for 16% equity       1    NaN    NaN       1    1      —      —  \n",
       "1    ₹40 lakhs for 50% equity       1    NaN    NaN       1  NaN      —      —  \n",
       "2    ₹25 lakhs for 30% equity     NaN    NaN      1       1  NaN      —      —  \n",
       "3  ₹70 lakhs for 2.75% equity       1    NaN    NaN     NaN  NaN      —      —  "
      ]
     },
     "execution_count": 35,
     "metadata": {},
     "output_type": "execute_result"
    }
   ],
   "source": [
    "df_wiki.head(4)"
   ]
  },
  {
   "cell_type": "code",
   "execution_count": 36,
   "id": "c5085ca2",
   "metadata": {},
   "outputs": [],
   "source": [
    "# Renaming the column names of df obtained from extracting subtitles from SET India Shark Tank Episodes\n",
    "\n",
    "if not any(['YT' in column for column in df.columns]):\n",
    "    df.columns = [f\"YT_{column}\" if column != 'Episode Number' else 'Episode Number' for column in df.columns]"
   ]
  },
  {
   "cell_type": "code",
   "execution_count": 37,
   "id": "6b9cf931",
   "metadata": {
    "scrolled": true
   },
   "outputs": [],
   "source": [
    "final_df = df_wiki.merge(df, on='Episode Number', how='left')"
   ]
  },
  {
   "cell_type": "code",
   "execution_count": 38,
   "id": "b1004bc7",
   "metadata": {},
   "outputs": [
    {
     "data": {
      "text/html": [
       "<div>\n",
       "<style scoped>\n",
       "    .dataframe tbody tr th:only-of-type {\n",
       "        vertical-align: middle;\n",
       "    }\n",
       "\n",
       "    .dataframe tbody tr th {\n",
       "        vertical-align: top;\n",
       "    }\n",
       "\n",
       "    .dataframe thead th {\n",
       "        text-align: right;\n",
       "    }\n",
       "</style>\n",
       "<table border=\"1\" class=\"dataframe\">\n",
       "  <thead>\n",
       "    <tr style=\"text-align: right;\">\n",
       "      <th></th>\n",
       "      <th>Episode Number</th>\n",
       "      <th>Pitch No.</th>\n",
       "      <th>Brand</th>\n",
       "      <th>Idea</th>\n",
       "      <th>Original ask</th>\n",
       "      <th>Deal</th>\n",
       "      <th>Ashneer</th>\n",
       "      <th>Namita</th>\n",
       "      <th>Anupam</th>\n",
       "      <th>Vineeta</th>\n",
       "      <th>Aman</th>\n",
       "      <th>Peyush</th>\n",
       "      <th>Ghazal</th>\n",
       "      <th>YT_VideoId</th>\n",
       "      <th>YT_Title</th>\n",
       "      <th>YT_Subs</th>\n",
       "      <th>YT_Subs_Clean</th>\n",
       "    </tr>\n",
       "  </thead>\n",
       "  <tbody>\n",
       "    <tr>\n",
       "      <th>116</th>\n",
       "      <td>35</td>\n",
       "      <td>117</td>\n",
       "      <td>Elcare India</td>\n",
       "      <td>Carenting for Elders</td>\n",
       "      <td>₹1 crore for 2.5% Equity</td>\n",
       "      <td>No Deal</td>\n",
       "      <td>NaN</td>\n",
       "      <td>NaN</td>\n",
       "      <td>NaN</td>\n",
       "      <td>NaN</td>\n",
       "      <td>NaN</td>\n",
       "      <td>NaN</td>\n",
       "      <td>NaN</td>\n",
       "      <td>FavzJTUfddQ</td>\n",
       "      <td>The Final Destination | Shark Tank India - Ep ...</td>\n",
       "      <td>[{'text': ''With all the seven\n",
       "sharks, today w...</td>\n",
       "      <td>With all the seven sharks, today we have Shark...</td>\n",
       "    </tr>\n",
       "    <tr>\n",
       "      <th>117</th>\n",
       "      <td>35</td>\n",
       "      <td>118</td>\n",
       "      <td>Lenskart</td>\n",
       "      <td>Eyeware</td>\n",
       "      <td>IN POPULAR CULTURE</td>\n",
       "      <td>IN POPULAR CULTURE</td>\n",
       "      <td>IN POPULAR CULTURE</td>\n",
       "      <td>IN POPULAR CULTURE</td>\n",
       "      <td>IN POPULAR CULTURE</td>\n",
       "      <td>IN POPULAR CULTURE</td>\n",
       "      <td>IN POPULAR CULTURE</td>\n",
       "      <td>IN POPULAR CULTURE</td>\n",
       "      <td>IN POPULAR CULTURE</td>\n",
       "      <td>FavzJTUfddQ</td>\n",
       "      <td>The Final Destination | Shark Tank India - Ep ...</td>\n",
       "      <td>[{'text': ''With all the seven\n",
       "sharks, today w...</td>\n",
       "      <td>With all the seven sharks, today we have Shark...</td>\n",
       "    </tr>\n",
       "    <tr>\n",
       "      <th>118</th>\n",
       "      <td>Investment</td>\n",
       "      <td>Investment</td>\n",
       "      <td>Investment</td>\n",
       "      <td>Investment</td>\n",
       "      <td>Investment</td>\n",
       "      <td>Investment</td>\n",
       "      <td>₹5.383Cr</td>\n",
       "      <td>₹6.383Cr</td>\n",
       "      <td>₹5.338Cr</td>\n",
       "      <td>₹3.042Cr</td>\n",
       "      <td>₹9.358Cr</td>\n",
       "      <td>₹8.297Cr</td>\n",
       "      <td>₹1.2Cr</td>\n",
       "      <td>NaN</td>\n",
       "      <td>NaN</td>\n",
       "      <td>NaN</td>\n",
       "      <td>NaN</td>\n",
       "    </tr>\n",
       "    <tr>\n",
       "      <th>119</th>\n",
       "      <td>Number of Deals Made</td>\n",
       "      <td>Number of Deals Made</td>\n",
       "      <td>Number of Deals Made</td>\n",
       "      <td>Number of Deals Made</td>\n",
       "      <td>Number of Deals Made</td>\n",
       "      <td>Number of Deals Made</td>\n",
       "      <td>21</td>\n",
       "      <td>22</td>\n",
       "      <td>24</td>\n",
       "      <td>15</td>\n",
       "      <td>28</td>\n",
       "      <td>27</td>\n",
       "      <td>7</td>\n",
       "      <td>NaN</td>\n",
       "      <td>NaN</td>\n",
       "      <td>NaN</td>\n",
       "      <td>NaN</td>\n",
       "    </tr>\n",
       "  </tbody>\n",
       "</table>\n",
       "</div>"
      ],
      "text/plain": [
       "           Episode Number             Pitch No.                 Brand  \\\n",
       "116                    35                   117          Elcare India   \n",
       "117                    35                   118              Lenskart   \n",
       "118            Investment            Investment            Investment   \n",
       "119  Number of Deals Made  Number of Deals Made  Number of Deals Made   \n",
       "\n",
       "                     Idea              Original ask                  Deal  \\\n",
       "116  Carenting for Elders  ₹1 crore for 2.5% Equity               No Deal   \n",
       "117               Eyeware        IN POPULAR CULTURE    IN POPULAR CULTURE   \n",
       "118            Investment                Investment            Investment   \n",
       "119  Number of Deals Made      Number of Deals Made  Number of Deals Made   \n",
       "\n",
       "                Ashneer              Namita              Anupam  \\\n",
       "116                 NaN                 NaN                 NaN   \n",
       "117  IN POPULAR CULTURE  IN POPULAR CULTURE  IN POPULAR CULTURE   \n",
       "118            ₹5.383Cr            ₹6.383Cr            ₹5.338Cr   \n",
       "119                  21                  22                  24   \n",
       "\n",
       "                Vineeta                Aman              Peyush  \\\n",
       "116                 NaN                 NaN                 NaN   \n",
       "117  IN POPULAR CULTURE  IN POPULAR CULTURE  IN POPULAR CULTURE   \n",
       "118            ₹3.042Cr            ₹9.358Cr            ₹8.297Cr   \n",
       "119                  15                  28                  27   \n",
       "\n",
       "                 Ghazal   YT_VideoId  \\\n",
       "116                 NaN  FavzJTUfddQ   \n",
       "117  IN POPULAR CULTURE  FavzJTUfddQ   \n",
       "118              ₹1.2Cr          NaN   \n",
       "119                   7          NaN   \n",
       "\n",
       "                                              YT_Title  \\\n",
       "116  The Final Destination | Shark Tank India - Ep ...   \n",
       "117  The Final Destination | Shark Tank India - Ep ...   \n",
       "118                                                NaN   \n",
       "119                                                NaN   \n",
       "\n",
       "                                               YT_Subs  \\\n",
       "116  [{'text': ''With all the seven\n",
       "sharks, today w...   \n",
       "117  [{'text': ''With all the seven\n",
       "sharks, today w...   \n",
       "118                                                NaN   \n",
       "119                                                NaN   \n",
       "\n",
       "                                         YT_Subs_Clean  \n",
       "116  With all the seven sharks, today we have Shark...  \n",
       "117  With all the seven sharks, today we have Shark...  \n",
       "118                                                NaN  \n",
       "119                                                NaN  "
      ]
     },
     "execution_count": 38,
     "metadata": {},
     "output_type": "execute_result"
    }
   ],
   "source": [
    "final_df.tail(4)"
   ]
  },
  {
   "cell_type": "code",
   "execution_count": 39,
   "id": "dab8c4a4",
   "metadata": {},
   "outputs": [],
   "source": [
    "final_df.to_pickle('Shark Tank India S1 Data with Subtitles.pickle')"
   ]
  },
  {
   "cell_type": "code",
   "execution_count": 40,
   "id": "de861bf6",
   "metadata": {},
   "outputs": [],
   "source": [
    "final_df.drop('YT_Subs', axis=1).to_excel('Shark Tank India S1 Data with Subtitles.xlsx', index=False)"
   ]
  }
 ],
 "metadata": {
  "kernelspec": {
   "display_name": "Python 3 (ipykernel)",
   "language": "python",
   "name": "python3"
  },
  "language_info": {
   "codemirror_mode": {
    "name": "ipython",
    "version": 3
   },
   "file_extension": ".py",
   "mimetype": "text/x-python",
   "name": "python",
   "nbconvert_exporter": "python",
   "pygments_lexer": "ipython3",
   "version": "3.10.6"
  }
 },
 "nbformat": 4,
 "nbformat_minor": 5
}
